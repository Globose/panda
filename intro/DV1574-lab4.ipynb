{
 "cells": [
  {
   "cell_type": "code",
   "execution_count": 2,
   "metadata": {},
   "outputs": [],
   "source": [
    "#\n",
    "# Martin Boldt, Blekinge Institute of Technology, Oct 2019.\n",
    "#\n",
    "\n",
    "import pandas as pd\n",
    "import numpy as np"
   ]
  },
  {
   "cell_type": "markdown",
   "metadata": {},
   "source": [
    "### Läs in datan från filen \"Grilla.csv\" till en Pandas Dataframe och skriv ut datan på skärmen. Tolka varje kolumn som kategorisk data (engelska: 'category')"
   ]
  },
  {
   "cell_type": "code",
   "execution_count": 3,
   "metadata": {},
   "outputs": [
    {
     "name": "stdout",
     "output_type": "stream",
     "text": [
      "      Dag  Väder Temperatur Fuktighet   Vind Grilla\n",
      "0   Dag01    Sol      Varmt       Hög   Svag     Ja\n",
      "1   Dag02    Sol      Varmt       Hög  Stark     Ja\n",
      "2   Dag03  Mulet      Varmt       Hög   Svag     Ja\n",
      "3   Dag04   Regn      Varmt       Hög   Svag     Ja\n",
      "4   Dag05   Regn      Kallt    Normal   Svag    Nej\n",
      "5   Dag06   Regn      Kallt    Normal  Stark    Nej\n",
      "6   Dag07  Mulet      Kallt    Normal   Svag     Ja\n",
      "7   Dag08    Sol       Milt       Hög   Svag     Ja\n",
      "8   Dag09    Sol      Kallt    Normal   Svag     Ja\n",
      "9   Dag10   Regn       Milt    Normal   Svag    Nej\n",
      "10  Dag11    Sol       Milt    Normal  Stark     Ja\n",
      "11  Dag12  Mulet       Milt       Hög  Stark    Nej\n",
      "12  Dag13  Mulet      Varmt    Normal   Svag     Ja\n",
      "13  Dag14   Regn       Milt       Hög  Stark    Nej\n"
     ]
    }
   ],
   "source": [
    "df = pd.read_csv(\"Grilla.csv\",  dtype='category', sep=\",\")\n",
    "print( df )"
   ]
  },
  {
   "cell_type": "markdown",
   "metadata": {},
   "source": [
    "### Skriv ut kodningen av kategorierna för respektive kolumn\n"
   ]
  },
  {
   "cell_type": "code",
   "execution_count": 4,
   "metadata": {
    "scrolled": true
   },
   "outputs": [
    {
     "name": "stdout",
     "output_type": "stream",
     "text": [
      "Dag        = Index(['Dag01', 'Dag02', 'Dag03', 'Dag04', 'Dag05', 'Dag06', 'Dag07', 'Dag08',\n",
      "       'Dag09', 'Dag10', 'Dag11', 'Dag12', 'Dag13', 'Dag14'],\n",
      "      dtype='object')\n",
      "Väder      = Index(['Mulet', 'Regn', 'Sol'], dtype='object')\n",
      "Temperatur = Index(['Kallt', 'Milt', 'Varmt'], dtype='object')\n",
      "Fuktighet  = Index(['Hög', 'Normal'], dtype='object')\n",
      "Vind       = Index(['Stark', 'Svag'], dtype='object')\n",
      "Grilla     = Index(['Ja', 'Nej'], dtype='object')\n"
     ]
    }
   ],
   "source": [
    "for catindex, catname in enumerate( df.columns ):\n",
    "    print( \"{0:10s} = {1}\".format( catname, df[catname].cat.categories ) )"
   ]
  },
  {
   "cell_type": "markdown",
   "metadata": {},
   "source": [
    "### Spara integer-representation av kategorierna (för respektive kolumn) i en ny dataframe, och skriv ut deras koder på skärmen\n"
   ]
  },
  {
   "cell_type": "code",
   "execution_count": 5,
   "metadata": {},
   "outputs": [
    {
     "name": "stdout",
     "output_type": "stream",
     "text": [
      "    Dag  Väder  Temperatur  Fuktighet  Vind  Grilla\n",
      "0     0      2           2          0     1       0\n",
      "1     1      2           2          0     0       0\n",
      "2     2      0           2          0     1       0\n",
      "3     3      1           2          0     1       0\n",
      "4     4      1           0          1     1       1\n",
      "5     5      1           0          1     0       1\n",
      "6     6      0           0          1     1       0\n",
      "7     7      2           1          0     1       0\n",
      "8     8      2           0          1     1       0\n",
      "9     9      1           1          1     1       1\n",
      "10   10      2           1          1     0       0\n",
      "11   11      0           1          0     0       1\n",
      "12   12      0           2          1     1       0\n",
      "13   13      1           1          0     0       1\n"
     ]
    }
   ],
   "source": [
    "df_coded = pd.DataFrame()\n",
    "\n",
    "df_coded['Dag'] = df['Dag'].astype('category').cat.codes\n",
    "df_coded['Väder'] = df['Väder'].astype('category').cat.codes\n",
    "df_coded['Temperatur'] = df['Temperatur'].astype('category').cat.codes\n",
    "df_coded['Fuktighet'] = df['Fuktighet'].astype('category').cat.codes\n",
    "df_coded['Vind'] = df['Vind'].astype('category').cat.codes\n",
    "df_coded['Grilla'] = df['Grilla'].astype('category').cat.codes\n",
    "\n",
    "print( df_coded )"
   ]
  },
  {
   "cell_type": "markdown",
   "metadata": {},
   "source": [
    "### Spara datan i samtliga kolumner _utom_ första och sista i dataframen \"X\". Spara därefter sista kolumen (alltså klassvariablen) till dataframen \"y\"\n"
   ]
  },
  {
   "cell_type": "code",
   "execution_count": 6,
   "metadata": {},
   "outputs": [],
   "source": [
    "X = df_coded.iloc[:,1:5] \n",
    "y = df_coded.iloc[:,5]"
   ]
  },
  {
   "cell_type": "markdown",
   "metadata": {},
   "source": [
    "### Skapa ett beslutsträd med följande argument satta: criterion=\"entropy\" samt random_state\"=0. Bygg därefter beslutsträdet baserat på datan i \"X\" och \"y\" med hjälp av beslutsträdets funktion fit()\n"
   ]
  },
  {
   "cell_type": "code",
   "execution_count": 7,
   "metadata": {},
   "outputs": [
    {
     "data": {
      "text/html": [
       "<style>#sk-container-id-1 {color: black;background-color: white;}#sk-container-id-1 pre{padding: 0;}#sk-container-id-1 div.sk-toggleable {background-color: white;}#sk-container-id-1 label.sk-toggleable__label {cursor: pointer;display: block;width: 100%;margin-bottom: 0;padding: 0.3em;box-sizing: border-box;text-align: center;}#sk-container-id-1 label.sk-toggleable__label-arrow:before {content: \"▸\";float: left;margin-right: 0.25em;color: #696969;}#sk-container-id-1 label.sk-toggleable__label-arrow:hover:before {color: black;}#sk-container-id-1 div.sk-estimator:hover label.sk-toggleable__label-arrow:before {color: black;}#sk-container-id-1 div.sk-toggleable__content {max-height: 0;max-width: 0;overflow: hidden;text-align: left;background-color: #f0f8ff;}#sk-container-id-1 div.sk-toggleable__content pre {margin: 0.2em;color: black;border-radius: 0.25em;background-color: #f0f8ff;}#sk-container-id-1 input.sk-toggleable__control:checked~div.sk-toggleable__content {max-height: 200px;max-width: 100%;overflow: auto;}#sk-container-id-1 input.sk-toggleable__control:checked~label.sk-toggleable__label-arrow:before {content: \"▾\";}#sk-container-id-1 div.sk-estimator input.sk-toggleable__control:checked~label.sk-toggleable__label {background-color: #d4ebff;}#sk-container-id-1 div.sk-label input.sk-toggleable__control:checked~label.sk-toggleable__label {background-color: #d4ebff;}#sk-container-id-1 input.sk-hidden--visually {border: 0;clip: rect(1px 1px 1px 1px);clip: rect(1px, 1px, 1px, 1px);height: 1px;margin: -1px;overflow: hidden;padding: 0;position: absolute;width: 1px;}#sk-container-id-1 div.sk-estimator {font-family: monospace;background-color: #f0f8ff;border: 1px dotted black;border-radius: 0.25em;box-sizing: border-box;margin-bottom: 0.5em;}#sk-container-id-1 div.sk-estimator:hover {background-color: #d4ebff;}#sk-container-id-1 div.sk-parallel-item::after {content: \"\";width: 100%;border-bottom: 1px solid gray;flex-grow: 1;}#sk-container-id-1 div.sk-label:hover label.sk-toggleable__label {background-color: #d4ebff;}#sk-container-id-1 div.sk-serial::before {content: \"\";position: absolute;border-left: 1px solid gray;box-sizing: border-box;top: 0;bottom: 0;left: 50%;z-index: 0;}#sk-container-id-1 div.sk-serial {display: flex;flex-direction: column;align-items: center;background-color: white;padding-right: 0.2em;padding-left: 0.2em;position: relative;}#sk-container-id-1 div.sk-item {position: relative;z-index: 1;}#sk-container-id-1 div.sk-parallel {display: flex;align-items: stretch;justify-content: center;background-color: white;position: relative;}#sk-container-id-1 div.sk-item::before, #sk-container-id-1 div.sk-parallel-item::before {content: \"\";position: absolute;border-left: 1px solid gray;box-sizing: border-box;top: 0;bottom: 0;left: 50%;z-index: -1;}#sk-container-id-1 div.sk-parallel-item {display: flex;flex-direction: column;z-index: 1;position: relative;background-color: white;}#sk-container-id-1 div.sk-parallel-item:first-child::after {align-self: flex-end;width: 50%;}#sk-container-id-1 div.sk-parallel-item:last-child::after {align-self: flex-start;width: 50%;}#sk-container-id-1 div.sk-parallel-item:only-child::after {width: 0;}#sk-container-id-1 div.sk-dashed-wrapped {border: 1px dashed gray;margin: 0 0.4em 0.5em 0.4em;box-sizing: border-box;padding-bottom: 0.4em;background-color: white;}#sk-container-id-1 div.sk-label label {font-family: monospace;font-weight: bold;display: inline-block;line-height: 1.2em;}#sk-container-id-1 div.sk-label-container {text-align: center;}#sk-container-id-1 div.sk-container {/* jupyter's `normalize.less` sets `[hidden] { display: none; }` but bootstrap.min.css set `[hidden] { display: none !important; }` so we also need the `!important` here to be able to override the default hidden behavior on the sphinx rendered scikit-learn.org. See: https://github.com/scikit-learn/scikit-learn/issues/21755 */display: inline-block !important;position: relative;}#sk-container-id-1 div.sk-text-repr-fallback {display: none;}</style><div id=\"sk-container-id-1\" class=\"sk-top-container\"><div class=\"sk-text-repr-fallback\"><pre>DecisionTreeClassifier(criterion=&#x27;entropy&#x27;, random_state=0)</pre><b>In a Jupyter environment, please rerun this cell to show the HTML representation or trust the notebook. <br />On GitHub, the HTML representation is unable to render, please try loading this page with nbviewer.org.</b></div><div class=\"sk-container\" hidden><div class=\"sk-item\"><div class=\"sk-estimator sk-toggleable\"><input class=\"sk-toggleable__control sk-hidden--visually\" id=\"sk-estimator-id-1\" type=\"checkbox\" checked><label for=\"sk-estimator-id-1\" class=\"sk-toggleable__label sk-toggleable__label-arrow\">DecisionTreeClassifier</label><div class=\"sk-toggleable__content\"><pre>DecisionTreeClassifier(criterion=&#x27;entropy&#x27;, random_state=0)</pre></div></div></div></div></div>"
      ],
      "text/plain": [
       "DecisionTreeClassifier(criterion='entropy', random_state=0)"
      ]
     },
     "execution_count": 7,
     "metadata": {},
     "output_type": "execute_result"
    }
   ],
   "source": [
    "from sklearn.tree import DecisionTreeClassifier\n",
    "\n",
    "dtree = DecisionTreeClassifier(criterion='entropy', random_state=0)\n",
    "dtree.fit(X,y)"
   ]
  },
  {
   "cell_type": "markdown",
   "metadata": {},
   "source": [
    "### Skriv ut trädet till en PNG-fil."
   ]
  },
  {
   "cell_type": "code",
   "execution_count": 8,
   "metadata": {},
   "outputs": [
    {
     "data": {
      "text/plain": [
       "'grilla_tree.png'"
      ]
     },
     "execution_count": 8,
     "metadata": {},
     "output_type": "execute_result"
    }
   ],
   "source": [
    "# Generera svartvit trädstruktur till PNG-fil\n",
    "from graphviz import Source\n",
    "from sklearn.tree import export_graphviz\n",
    "\n",
    "graph = Source( export_graphviz(dtree, out_file=None, feature_names=X.columns))\n",
    "graph.format = 'png'\n",
    "graph.render('grilla_tree',view=True)"
   ]
  },
  {
   "cell_type": "code",
   "execution_count": 12,
   "metadata": {},
   "outputs": [
    {
     "data": {
      "text/plain": [
       "True"
      ]
     },
     "execution_count": 12,
     "metadata": {},
     "output_type": "execute_result"
    }
   ],
   "source": [
    "# Generarea snyggare färglagd trädstruktur (vita noder, negativa löv som röda och positiva lov som gröna) till PNG-fil.\n",
    "import pydotplus\n",
    "\n",
    "dot_data = export_graphviz(dtree, feature_names=X.columns, out_file=None, filled=True, rounded=True)\n",
    "graph = pydotplus.graph_from_dot_data(dot_data)\n",
    "nodes = graph.get_node_list()\n",
    "colors =  ('springgreen', 'tomato', 'white')\n",
    "\n",
    "for node in nodes:\n",
    "    if node.get_name() not in ('node', 'edge', '\"\\\\n\"'):\n",
    "        values = dtree.tree_.value[int(node.get_name())][0]\n",
    "        #color only nodes where only one class is present\n",
    "        if max(values) == sum(values):    \n",
    "            node.set_fillcolor(colors[np.argmax(values)])\n",
    "        #mixed nodes get the default color\n",
    "        else:\n",
    "            node.set_fillcolor(colors[-1])\n",
    "graph.write_png('grilla_tree_color.png')"
   ]
  },
  {
   "cell_type": "markdown",
   "metadata": {},
   "source": [
    "### Skapa en ny instans som har följande värden: \"Väder\"=0, \"Temperatur\"=0, \"Fuktighet\"=0, \"Vind\"=0"
   ]
  },
  {
   "cell_type": "code",
   "execution_count": 13,
   "metadata": {},
   "outputs": [
    {
     "name": "stdout",
     "output_type": "stream",
     "text": [
      " Väder  Temperatur  Fuktighet  Vind\n",
      "     0           0          0     0\n"
     ]
    }
   ],
   "source": [
    "test = pd.DataFrame( [[0,0,0,0]], columns = [ \"Väder\", \"Temperatur\", \"Fuktighet\", \"Vind\" ] )\n",
    "print( test.to_string(index=False) )"
   ]
  },
  {
   "cell_type": "markdown",
   "metadata": {},
   "source": [
    "### Klassificera den nya instansen m.h.a. beslutsträdet och skriv ut vilken klass den får. Förklara varför instansen klassifieras som den gör. Vilken väg genom trädet används?"
   ]
  },
  {
   "cell_type": "code",
   "execution_count": 14,
   "metadata": {},
   "outputs": [
    {
     "name": "stdout",
     "output_type": "stream",
     "text": [
      "[1]\n"
     ]
    }
   ],
   "source": [
    "test_pred = dtree.predict(test)\n",
    "print( test_pred )"
   ]
  },
  {
   "cell_type": "markdown",
   "metadata": {},
   "source": [
    "### Skapa en ny instans som har följande värden: \"Väder\"=2, \"Temperatur\"=2, \"Fuktighet\"=1, \"Vind\"=1"
   ]
  },
  {
   "cell_type": "code",
   "execution_count": 15,
   "metadata": {},
   "outputs": [
    {
     "name": "stdout",
     "output_type": "stream",
     "text": [
      " Väder  Temperatur  Fuktighet  Vind\n",
      "     2           2          1     1\n"
     ]
    }
   ],
   "source": [
    "test = pd.DataFrame( [[2,2,1,1]], columns = [ \"Väder\", \"Temperatur\", \"Fuktighet\", \"Vind\" ] )\n",
    "print( test.to_string(index=False) )"
   ]
  },
  {
   "cell_type": "markdown",
   "metadata": {},
   "source": [
    "### Klassificera den nya instansen m.h.a. beslutsträdet och skriv ut vilken klass den får. Förklara varför instansen klassifieras som den gör. Vilken väg genom trädet används?"
   ]
  },
  {
   "cell_type": "code",
   "execution_count": 16,
   "metadata": {},
   "outputs": [
    {
     "name": "stdout",
     "output_type": "stream",
     "text": [
      "[0]\n"
     ]
    }
   ],
   "source": [
    "test_pred = dtree.predict(test)\n",
    "print( test_pred )"
   ]
  },
  {
   "cell_type": "code",
   "execution_count": null,
   "metadata": {},
   "outputs": [],
   "source": []
  }
 ],
 "metadata": {
  "kernelspec": {
   "display_name": "Python 3.9.13 64-bit (microsoft store)",
   "language": "python",
   "name": "python3"
  },
  "language_info": {
   "codemirror_mode": {
    "name": "ipython",
    "version": 3
   },
   "file_extension": ".py",
   "mimetype": "text/x-python",
   "name": "python",
   "nbconvert_exporter": "python",
   "pygments_lexer": "ipython3",
   "version": "3.9.13"
  },
  "vscode": {
   "interpreter": {
    "hash": "23ad1a20528fde894538aad13b216493100d927dfe115b86ed3ba7f1cf4ab7c9"
   }
  }
 },
 "nbformat": 4,
 "nbformat_minor": 2
}
